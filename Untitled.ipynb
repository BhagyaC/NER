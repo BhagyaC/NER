{
 "cells": [
  {
   "cell_type": "code",
   "execution_count": 1,
   "metadata": {},
   "outputs": [],
   "source": [
    "from io import StringIO\n",
    "from pdfminer.pdfinterp import PDFResourceManager, PDFPageInterpreter\n",
    "from pdfminer.converter import TextConverter\n",
    "from pdfminer.layout import LAParams\n",
    "from pdfminer.pdfpage import PDFPage"
   ]
  },
  {
   "cell_type": "code",
   "execution_count": 3,
   "metadata": {},
   "outputs": [
    {
     "name": "stdout",
     "output_type": "stream",
     "text": [
      "Package            Version  \n",
      "------------------ ---------\n",
      "appnope            0.1.0    \n",
      "attrs              19.1.0   \n",
      "backcall           0.1.0    \n",
      "bleach             3.1.0    \n",
      "blis               0.2.4    \n",
      "certifi            2019.6.16\n",
      "chardet            3.0.4    \n",
      "cycler             0.10.0   \n",
      "cymem              2.0.2    \n",
      "decorator          4.4.0    \n",
      "defusedxml         0.6.0    \n",
      "entrypoints        0.3      \n",
      "et-xmlfile         1.0.1    \n",
      "idna               2.8      \n",
      "ipykernel          5.1.1    \n",
      "ipython            7.5.0    \n",
      "ipython-genutils   0.2.0    \n",
      "ipywidgets         7.4.2    \n",
      "jdcal              1.4.1    \n",
      "jedi               0.13.3   \n",
      "Jinja2             2.10.1   \n",
      "joblib             0.13.2   \n",
      "jsonschema         3.0.1    \n",
      "jupyter            1.0.0    \n",
      "jupyter-client     5.2.4    \n",
      "jupyter-console    6.0.0    \n",
      "jupyter-core       4.4.0    \n",
      "kiwisolver         1.1.0    \n",
      "MarkupSafe         1.1.1    \n",
      "matplotlib         3.1.0    \n",
      "mistune            0.8.4    \n",
      "murmurhash         1.0.2    \n",
      "nbconvert          5.5.0    \n",
      "nbformat           4.4.0    \n",
      "notebook           5.7.8    \n",
      "numpy              1.16.4   \n",
      "openpyxl           2.6.2    \n",
      "pandas             0.24.2   \n",
      "pandocfilters      1.4.2    \n",
      "parso              0.4.0    \n",
      "pdfminer.six       20181108 \n",
      "pexpect            4.7.0    \n",
      "pickleshare        0.7.5    \n",
      "pip                19.0.3   \n",
      "plac               0.9.6    \n",
      "preshed            2.0.1    \n",
      "prometheus-client  0.6.0    \n",
      "prompt-toolkit     2.0.9    \n",
      "ptyprocess         0.6.0    \n",
      "pycryptodome       3.8.2    \n",
      "Pygments           2.4.2    \n",
      "pyparsing          2.4.0    \n",
      "pyrsistent         0.15.2   \n",
      "python-dateutil    2.8.0    \n",
      "pytz               2019.1   \n",
      "pyzmq              18.0.1   \n",
      "qtconsole          4.5.1    \n",
      "requests           2.22.0   \n",
      "scikit-learn       0.21.2   \n",
      "scipy              1.3.0    \n",
      "Send2Trash         1.5.0    \n",
      "setuptools         40.8.0   \n",
      "six                1.12.0   \n",
      "sklearn            0.0      \n",
      "sortedcontainers   2.1.0    \n",
      "spacy              2.1.8    \n",
      "srsly              0.0.7    \n",
      "terminado          0.8.2    \n",
      "testpath           0.4.2    \n",
      "thinc              7.0.8    \n",
      "tornado            6.0.2    \n",
      "tqdm               4.33.0   \n",
      "traitlets          4.3.2    \n",
      "urllib3            1.25.3   \n",
      "virtualenv         16.7.2   \n",
      "wasabi             0.2.2    \n",
      "wcwidth            0.1.7    \n",
      "webencodings       0.5.1    \n",
      "wheel              0.33.1   \n",
      "widgetsnbextension 3.4.2    \n",
      "xlrd               1.2.0    \n",
      "xlwt               1.3.0    \n",
      "Note: you may need to restart the kernel to use updated packages.\n"
     ]
    }
   ],
   "source": [
    "pip list"
   ]
  },
  {
   "cell_type": "code",
   "execution_count": 2,
   "metadata": {},
   "outputs": [
    {
     "ename": "OSError",
     "evalue": "[E050] Can't find model 'en_core_web_sm'. It doesn't seem to be a shortcut link, a Python package or a valid path to a data directory.",
     "output_type": "error",
     "traceback": [
      "\u001b[0;31m---------------------------------------------------------------------------\u001b[0m",
      "\u001b[0;31mOSError\u001b[0m                                   Traceback (most recent call last)",
      "\u001b[0;32m<ipython-input-2-14d257ed08ca>\u001b[0m in \u001b[0;36m<module>\u001b[0;34m\u001b[0m\n\u001b[1;32m      1\u001b[0m \u001b[0;32mimport\u001b[0m \u001b[0mspacy\u001b[0m\u001b[0;34m\u001b[0m\u001b[0;34m\u001b[0m\u001b[0m\n\u001b[0;32m----> 2\u001b[0;31m \u001b[0mnlp\u001b[0m \u001b[0;34m=\u001b[0m \u001b[0mspacy\u001b[0m\u001b[0;34m.\u001b[0m\u001b[0mload\u001b[0m\u001b[0;34m(\u001b[0m\u001b[0;34m\"en_core_web_sm\"\u001b[0m\u001b[0;34m)\u001b[0m\u001b[0;34m\u001b[0m\u001b[0;34m\u001b[0m\u001b[0m\n\u001b[0m",
      "\u001b[0;32m/usr/local/lib/python3.7/site-packages/spacy/__init__.py\u001b[0m in \u001b[0;36mload\u001b[0;34m(name, **overrides)\u001b[0m\n\u001b[1;32m     25\u001b[0m     \u001b[0;32mif\u001b[0m \u001b[0mdepr_path\u001b[0m \u001b[0;32mnot\u001b[0m \u001b[0;32min\u001b[0m \u001b[0;34m(\u001b[0m\u001b[0;32mTrue\u001b[0m\u001b[0;34m,\u001b[0m \u001b[0;32mFalse\u001b[0m\u001b[0;34m,\u001b[0m \u001b[0;32mNone\u001b[0m\u001b[0;34m)\u001b[0m\u001b[0;34m:\u001b[0m\u001b[0;34m\u001b[0m\u001b[0;34m\u001b[0m\u001b[0m\n\u001b[1;32m     26\u001b[0m         \u001b[0mdeprecation_warning\u001b[0m\u001b[0;34m(\u001b[0m\u001b[0mWarnings\u001b[0m\u001b[0;34m.\u001b[0m\u001b[0mW001\u001b[0m\u001b[0;34m.\u001b[0m\u001b[0mformat\u001b[0m\u001b[0;34m(\u001b[0m\u001b[0mpath\u001b[0m\u001b[0;34m=\u001b[0m\u001b[0mdepr_path\u001b[0m\u001b[0;34m)\u001b[0m\u001b[0;34m)\u001b[0m\u001b[0;34m\u001b[0m\u001b[0;34m\u001b[0m\u001b[0m\n\u001b[0;32m---> 27\u001b[0;31m     \u001b[0;32mreturn\u001b[0m \u001b[0mutil\u001b[0m\u001b[0;34m.\u001b[0m\u001b[0mload_model\u001b[0m\u001b[0;34m(\u001b[0m\u001b[0mname\u001b[0m\u001b[0;34m,\u001b[0m \u001b[0;34m**\u001b[0m\u001b[0moverrides\u001b[0m\u001b[0;34m)\u001b[0m\u001b[0;34m\u001b[0m\u001b[0;34m\u001b[0m\u001b[0m\n\u001b[0m\u001b[1;32m     28\u001b[0m \u001b[0;34m\u001b[0m\u001b[0m\n\u001b[1;32m     29\u001b[0m \u001b[0;34m\u001b[0m\u001b[0m\n",
      "\u001b[0;32m/usr/local/lib/python3.7/site-packages/spacy/util.py\u001b[0m in \u001b[0;36mload_model\u001b[0;34m(name, **overrides)\u001b[0m\n\u001b[1;32m    137\u001b[0m     \u001b[0;32melif\u001b[0m \u001b[0mhasattr\u001b[0m\u001b[0;34m(\u001b[0m\u001b[0mname\u001b[0m\u001b[0;34m,\u001b[0m \u001b[0;34m\"exists\"\u001b[0m\u001b[0;34m)\u001b[0m\u001b[0;34m:\u001b[0m  \u001b[0;31m# Path or Path-like to model data\u001b[0m\u001b[0;34m\u001b[0m\u001b[0;34m\u001b[0m\u001b[0m\n\u001b[1;32m    138\u001b[0m         \u001b[0;32mreturn\u001b[0m \u001b[0mload_model_from_path\u001b[0m\u001b[0;34m(\u001b[0m\u001b[0mname\u001b[0m\u001b[0;34m,\u001b[0m \u001b[0;34m**\u001b[0m\u001b[0moverrides\u001b[0m\u001b[0;34m)\u001b[0m\u001b[0;34m\u001b[0m\u001b[0;34m\u001b[0m\u001b[0m\n\u001b[0;32m--> 139\u001b[0;31m     \u001b[0;32mraise\u001b[0m \u001b[0mIOError\u001b[0m\u001b[0;34m(\u001b[0m\u001b[0mErrors\u001b[0m\u001b[0;34m.\u001b[0m\u001b[0mE050\u001b[0m\u001b[0;34m.\u001b[0m\u001b[0mformat\u001b[0m\u001b[0;34m(\u001b[0m\u001b[0mname\u001b[0m\u001b[0;34m=\u001b[0m\u001b[0mname\u001b[0m\u001b[0;34m)\u001b[0m\u001b[0;34m)\u001b[0m\u001b[0;34m\u001b[0m\u001b[0;34m\u001b[0m\u001b[0m\n\u001b[0m\u001b[1;32m    140\u001b[0m \u001b[0;34m\u001b[0m\u001b[0m\n\u001b[1;32m    141\u001b[0m \u001b[0;34m\u001b[0m\u001b[0m\n",
      "\u001b[0;31mOSError\u001b[0m: [E050] Can't find model 'en_core_web_sm'. It doesn't seem to be a shortcut link, a Python package or a valid path to a data directory."
     ]
    }
   ],
   "source": [
    "import spacy\n",
    "nlp = spacy.load(\"en_core_web_sm\")"
   ]
  },
  {
   "cell_type": "code",
   "execution_count": null,
   "metadata": {},
   "outputs": [],
   "source": [
    "def pdf_to_text(f_name, pages=None) -> list:\n",
    "    \"\"\"\n",
    "    Parses PDF into list of strings containing lines of resume\n",
    "    :param f_name: File to convert\n",
    "    :param pages: Page to start with?(to confirm)\n",
    "    :return: List of strings\n",
    "    \"\"\"\n",
    "    if not pages:\n",
    "        pagenums = set()\n",
    "    else:\n",
    "        pagenums = set(pages)\n",
    "\n",
    "    # output = StringIO()\n",
    "    output = StringIO()\n",
    "    manager = PDFResourceManager()\n",
    "    converter = TextConverter(manager, output, laparams=LAParams())\n",
    "    interpreter = PDFPageInterpreter(manager, converter)\n",
    "\n",
    "    infile = open(f_name, 'rb')\n",
    "    for page in PDFPage.get_pages(infile, pagenums):\n",
    "        interpreter.process_page(page)\n",
    "    infile.close()\n",
    "    converter.close()\n",
    "    text = output.getvalue()\n",
    "    output.close()\n",
    "\n",
    "    # Output file is saved only when debugging\n",
    "    # text_file = open(\"OutputZ.txt\", \"w\")\n",
    "    # text_file.write(text)\n",
    "    # text_file.close()\n",
    "\n",
    "    # Convert text into list\n",
    "    line_list = [x for x in text.split('\\n') if x.strip()]\n",
    "    text = \"\"\n",
    "    for i in range(0,10):\n",
    "        text = text + line_list[i]+ '\\n'       \n",
    "    return text\n"
   ]
  },
  {
   "cell_type": "code",
   "execution_count": 3,
   "metadata": {},
   "outputs": [
    {
     "ename": "NameError",
     "evalue": "name 'pdf_to_text' is not defined",
     "output_type": "error",
     "traceback": [
      "\u001b[0;31m---------------------------------------------------------------------------\u001b[0m",
      "\u001b[0;31mNameError\u001b[0m                                 Traceback (most recent call last)",
      "\u001b[0;32m<ipython-input-3-b9dc5e68ddc2>\u001b[0m in \u001b[0;36m<module>\u001b[0;34m\u001b[0m\n\u001b[1;32m      1\u001b[0m \u001b[0mf_name\u001b[0m\u001b[0;34m=\u001b[0m\u001b[0;34m'Simon Malian.pdf'\u001b[0m\u001b[0;34m\u001b[0m\u001b[0;34m\u001b[0m\u001b[0m\n\u001b[0;32m----> 2\u001b[0;31m \u001b[0mresult\u001b[0m \u001b[0;34m=\u001b[0m \u001b[0mpdf_to_text\u001b[0m\u001b[0;34m(\u001b[0m\u001b[0mf_name\u001b[0m\u001b[0;34m,\u001b[0m \u001b[0mpages\u001b[0m\u001b[0;34m=\u001b[0m\u001b[0;32mNone\u001b[0m\u001b[0;34m)\u001b[0m\u001b[0;34m\u001b[0m\u001b[0;34m\u001b[0m\u001b[0m\n\u001b[0m",
      "\u001b[0;31mNameError\u001b[0m: name 'pdf_to_text' is not defined"
     ]
    }
   ],
   "source": [
    "f_name='Simon Malian.pdf'\n",
    "result = pdf_to_text(f_name, pages=None)"
   ]
  },
  {
   "cell_type": "code",
   "execution_count": 4,
   "metadata": {},
   "outputs": [
    {
     "ename": "NameError",
     "evalue": "name 'result' is not defined",
     "output_type": "error",
     "traceback": [
      "\u001b[0;31m---------------------------------------------------------------------------\u001b[0m",
      "\u001b[0;31mNameError\u001b[0m                                 Traceback (most recent call last)",
      "\u001b[0;32m<ipython-input-4-0ac921c19f1a>\u001b[0m in \u001b[0;36m<module>\u001b[0;34m\u001b[0m\n\u001b[0;32m----> 1\u001b[0;31m \u001b[0mresult\u001b[0m\u001b[0;34m\u001b[0m\u001b[0;34m\u001b[0m\u001b[0m\n\u001b[0m",
      "\u001b[0;31mNameError\u001b[0m: name 'result' is not defined"
     ]
    }
   ],
   "source": [
    "result"
   ]
  },
  {
   "cell_type": "code",
   "execution_count": 15,
   "metadata": {},
   "outputs": [
    {
     "name": "stdout",
     "output_type": "stream",
     "text": [
      "Simon Malian\n",
      "Strategy Manager with Data Science Expertise\n",
      "New York, NY\n",
      "simon.malian.au@gmail.com - (617) 218 7036\n",
      "Authorized to work in the US for any employer\n",
      "WORK EXPERIENCE\n",
      "Lead Business Analyst, Value & Financial Management\n",
      "National Broadband Network Initiative, Federal Government of Australia - April 2012 to August 2014\n",
      "Delivered 5 consulting engagements, spanning multiple departments, for the Deputy Chief Financial Officer.\n",
      "Key highlights included:\n",
      "\n"
     ]
    }
   ],
   "source": [
    "for x in result.split('\\n'):\n",
    "    print(x)"
   ]
  },
  {
   "cell_type": "code",
   "execution_count": null,
   "metadata": {},
   "outputs": [],
   "source": [
    "REGEX_EMAIL = r'([a-zA-Z0-9_\\-\\.]+)@([a-zA-Z0-9_\\-\\.]+)\\.([a-zA-Z]{2,5})'\n",
    "REGEX_PHONE = r'(\\+\\d{1,2}\\s)?\\(?\\d{3}\\)?[\\s.-]\\d{3}[\\s.-]\\d{4}'\n",
    "REGEX_URL = r'(https?:\\/\\/)?(www\\.)?[-a-zA-Z0-9@:%._\\+~#=]{2,256}\\.[a-z]{2,6}\\b([-a-zA-Z0-9@:%_\\+.~#?&//=]*)'\n",
    "REGEX_EMAIL_LABEL = r'E:|Email:?|email:?|'\n",
    "REGEX_PHONE_LABEL = r'M:|Mobile:?|Phone:?|Tel:|Tel.|Telephone:?|Cell:|Cellphone:?'\n",
    "REGEX_ADDRESS_LABEL = r'Address:?|ADDRESS:?'\n",
    "REGEX_URL_LABEL = r'Url:|Website:?'\n"
   ]
  },
  {
   "cell_type": "code",
   "execution_count": 6,
   "metadata": {},
   "outputs": [],
   "source": [
    "def get_address_from_text(text):\n",
    "    newLineSeparatedList = [x for x in text.split('\\n') if x.strip()]\n",
    "    address_list = list()\n",
    "    \n",
    "    for new_line_separated_section in newLineSeparatedList:\n",
    "        doc = (new_line_separated_section)\n",
    "        is_break = False\n",
    "        gpe_count = 0\n",
    "        for entity in doc.ents:\n",
    "            if entity.label_ == \"GPE\":\n",
    "                gpe_count += 1\n",
    "                if gpe_count == 2:\n",
    "                    new_line_separated_section = replace_regex_with_text(new_line_separated_section, [\n",
    "                        REGEX_EMAIL, REGEX_PHONE, REGEX_URL, REGEX_EMAIL_LABEL, REGEX_PHONE_LABEL, REGEX_ADDRESS_LABEL,\n",
    "                        REGEX_URL_LABEL], \"\")\n",
    "                    address_list.append(new_line_separated_section)\n",
    "                    is_break = True\n",
    "                    break\n",
    "        if is_break:\n",
    "            break\n",
    "\n",
    "    return address_list"
   ]
  },
  {
   "cell_type": "code",
   "execution_count": 7,
   "metadata": {},
   "outputs": [
    {
     "ename": "NameError",
     "evalue": "name 'result' is not defined",
     "output_type": "error",
     "traceback": [
      "\u001b[0;31m---------------------------------------------------------------------------\u001b[0m",
      "\u001b[0;31mNameError\u001b[0m                                 Traceback (most recent call last)",
      "\u001b[0;32m<ipython-input-7-5402db3a4854>\u001b[0m in \u001b[0;36m<module>\u001b[0;34m\u001b[0m\n\u001b[0;32m----> 1\u001b[0;31m \u001b[0mget_address_from_text\u001b[0m\u001b[0;34m(\u001b[0m\u001b[0mresult\u001b[0m\u001b[0;34m)\u001b[0m\u001b[0;34m\u001b[0m\u001b[0;34m\u001b[0m\u001b[0m\n\u001b[0m",
      "\u001b[0;31mNameError\u001b[0m: name 'result' is not defined"
     ]
    }
   ],
   "source": [
    "get_address_from_text(result)"
   ]
  },
  {
   "cell_type": "code",
   "execution_count": null,
   "metadata": {},
   "outputs": [],
   "source": []
  }
 ],
 "metadata": {
  "kernelspec": {
   "display_name": "Python 3",
   "language": "python",
   "name": "python3"
  },
  "language_info": {
   "codemirror_mode": {
    "name": "ipython",
    "version": 3
   },
   "file_extension": ".py",
   "mimetype": "text/x-python",
   "name": "python",
   "nbconvert_exporter": "python",
   "pygments_lexer": "ipython3",
   "version": "3.7.3"
  }
 },
 "nbformat": 4,
 "nbformat_minor": 2
}
