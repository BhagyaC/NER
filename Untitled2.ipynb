{
 "cells": [
  {
   "cell_type": "code",
   "execution_count": null,
   "metadata": {},
   "outputs": [],
   "source": [
    "import json\n",
    "\n",
    "\n",
    "# give the name of json file to be created\n",
    "def txt_to_jsn():\n",
    "    # For developing\n",
    "    # json_file = 'bertinput.json'\n",
    "        x\n",
    "     with open(json_file, 'w') as fp:\n",
    "    for line in resume_lines:\n",
    "        data = dict()\n",
    "        sentence = line\n",
    "        if (sentence.strip(\"\\n\").strip() and sentence != \"\\u00a0\\n\" and sentence != \"\\f\\u00a0\\n\" and sentence != \"\\f\" and sentence != \"\\f\"):\n",
    "            data['text'] = sentence\n",
    "            data['linelabel'] = 0\n",
    "            data['linetype'] = 0\n",
    "            line_new = json.dumps(data) + '\\n'\n",
    "            \n",
    "            # fp.write(line_new)\n",
    "    return converted_json\n"
   ]
  }
 ],
 "metadata": {
  "kernelspec": {
   "display_name": "Python 3",
   "language": "python",
   "name": "python3"
  },
  "language_info": {
   "codemirror_mode": {
    "name": "ipython",
    "version": 3
   },
   "file_extension": ".py",
   "mimetype": "text/x-python",
   "name": "python",
   "nbconvert_exporter": "python",
   "pygments_lexer": "ipython3",
   "version": "3.7.4"
  }
 },
 "nbformat": 4,
 "nbformat_minor": 2
}
